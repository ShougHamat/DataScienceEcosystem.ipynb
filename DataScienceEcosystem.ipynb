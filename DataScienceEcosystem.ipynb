{
 "cells": [
  {
   "cell_type": "markdown",
   "id": "d221b31a",
   "metadata": {},
   "source": [
    "# Data Science Tools and Ecosystem\n"
   ]
  },
  {
   "cell_type": "markdown",
   "id": "db245c8b",
   "metadata": {},
   "source": [
    "In this notebook, Data Science Tools and Ecosystem are summarized."
   ]
  },
  {
   "cell_type": "markdown",
   "id": "8a8fe946",
   "metadata": {},
   "source": [
    "Some of the popular languages that Data Scientists use are:\n",
    "    \n",
    "    1. Python\n",
    "    2. Matlab\n",
    "    3. JavaScript\n",
    "\n",
    "    \n",
    "    "
   ]
  },
  {
   "cell_type": "markdown",
   "id": "0b5f5613",
   "metadata": {},
   "source": [
    "Some of the commonly used libraries used by Data Scientists include:\n",
    "\n",
    "    1. Scrapy\n",
    "    2. BeautifulSoup\n",
    "    3. NumPy\n",
    "    4. SciPy"
   ]
  },
  {
   "cell_type": "markdown",
   "id": "38a0e7e4",
   "metadata": {},
   "source": [
    "| Data Science Tools |\n",
    "| --- | \n",
    "| Anaconda| \n",
    "|  | \n",
    "| Matlab| \n",
    "|  | \n",
    "| Pycharm| \n",
    "|  | "
   ]
  },
  {
   "cell_type": "markdown",
   "id": "e5622459",
   "metadata": {},
   "source": [
    "### Below are a few examples of evaluating arithmetic expressions in Python"
   ]
  },
  {
   "cell_type": "code",
   "execution_count": 6,
   "id": "b0dd92df",
   "metadata": {},
   "outputs": [
    {
     "data": {
      "text/plain": [
       "17"
      ]
     },
     "execution_count": 6,
     "metadata": {},
     "output_type": "execute_result"
    }
   ],
   "source": [
    "##This a simple arithmetic expression to mutiply then add integers\n",
    "\n",
    "3*4+5"
   ]
  },
  {
   "cell_type": "code",
   "execution_count": 5,
   "id": "2a31bac2",
   "metadata": {},
   "outputs": [
    {
     "data": {
      "text/plain": [
       "3.3333333333333335"
      ]
     },
     "execution_count": 5,
     "metadata": {},
     "output_type": "execute_result"
    }
   ],
   "source": [
    "##This will convert 200 minutes to hours by diving by 60\n",
    "\n",
    "200/60"
   ]
  },
  {
   "cell_type": "markdown",
   "id": "c00f2155",
   "metadata": {},
   "source": [
    "**Objectives:**\n",
    "\n",
    "   - Python\n",
    "   - Matlab\n",
    "   - JavaScript"
   ]
  },
  {
   "cell_type": "markdown",
   "id": "d7a209f2",
   "metadata": {},
   "source": [
    "## Author\n",
    "\n",
    " Shoug Hamad Almutair"
   ]
  },
  {
   "cell_type": "code",
   "execution_count": null,
   "id": "d71c81b9",
   "metadata": {},
   "outputs": [],
   "source": []
  }
 ],
 "metadata": {
  "kernelspec": {
   "display_name": "Python 3 (ipykernel)",
   "language": "python",
   "name": "python3"
  },
  "language_info": {
   "codemirror_mode": {
    "name": "ipython",
    "version": 3
   },
   "file_extension": ".py",
   "mimetype": "text/x-python",
   "name": "python",
   "nbconvert_exporter": "python",
   "pygments_lexer": "ipython3",
   "version": "3.10.9"
  }
 },
 "nbformat": 4,
 "nbformat_minor": 5
}
